{
 "cells": [
  {
   "cell_type": "markdown",
   "metadata": {},
   "source": [
    "#Recurrent Neural Network For Weather Prediction"
   ]
  },
  {
   "cell_type": "markdown",
   "metadata": {},
   "source": [
    "###Start spark application and set configuration"
   ]
  },
  {
   "cell_type": "code",
   "execution_count": 1,
   "metadata": {},
   "outputs": [
    {
     "data": {
      "application/vnd.jupyter.widget-view+json": {
       "model_id": "c65fd239ee424ba08b726ba231aa1039",
       "version_major": 2,
       "version_minor": 0
      },
      "text/plain": [
       "VBox()"
      ]
     },
     "metadata": {},
     "output_type": "display_data"
    },
    {
     "name": "stdout",
     "output_type": "stream",
     "text": [
      "Starting Spark application\n"
     ]
    },
    {
     "data": {
      "text/html": [
       "<table>\n",
       "<tr><th>ID</th><th>YARN Application ID</th><th>Kind</th><th>State</th><th>Spark UI</th><th>Driver log</th><th>Current session?</th></tr><tr><td>4</td><td>application_1575218563911_0005</td><td>pyspark</td><td>idle</td><td><a target=\"_blank\" href=\"http://ip-172-31-4-82.ec2.internal:20888/proxy/application_1575218563911_0005/\">Link</a></td><td><a target=\"_blank\" href=\"http://ip-172-31-1-11.ec2.internal:8042/node/containerlogs/container_1575218563911_0005_01_000001/livy\">Link</a></td><td>✔</td></tr></table>"
      ],
      "text/plain": [
       "<IPython.core.display.HTML object>"
      ]
     },
     "metadata": {},
     "output_type": "display_data"
    },
    {
     "data": {
      "application/vnd.jupyter.widget-view+json": {
       "model_id": "",
       "version_major": 2,
       "version_minor": 0
      },
      "text/plain": [
       "FloatProgress(value=0.0, bar_style='info', description='Progress:', layout=Layout(height='25px', width='50%'),…"
      ]
     },
     "metadata": {},
     "output_type": "display_data"
    },
    {
     "name": "stdout",
     "output_type": "stream",
     "text": [
      "SparkSession available as 'spark'.\n"
     ]
    },
    {
     "data": {
      "application/vnd.jupyter.widget-view+json": {
       "model_id": "",
       "version_major": 2,
       "version_minor": 0
      },
      "text/plain": [
       "FloatProgress(value=0.0, bar_style='info', description='Progress:', layout=Layout(height='25px', width='50%'),…"
      ]
     },
     "metadata": {},
     "output_type": "display_data"
    },
    {
     "name": "stdout",
     "output_type": "stream",
     "text": [
      "<pyspark.sql.session.SparkSession object at 0x7ff1f2381ac8>"
     ]
    }
   ],
   "source": [
    "spark"
   ]
  },
  {
   "cell_type": "code",
   "execution_count": 2,
   "metadata": {},
   "outputs": [
    {
     "name": "stdout",
     "output_type": "stream",
     "text": [
      "Starting Spark application\n"
     ]
    },
    {
     "data": {
      "text/html": [
       "<table>\n",
       "<tr><th>ID</th><th>YARN Application ID</th><th>Kind</th><th>State</th><th>Spark UI</th><th>Driver log</th><th>Current session?</th></tr><tr><td>5</td><td>application_1575218563911_0006</td><td>pyspark</td><td>idle</td><td><a target=\"_blank\" href=\"http://ip-172-31-4-82.ec2.internal:20888/proxy/application_1575218563911_0006/\">Link</a></td><td><a target=\"_blank\" href=\"http://ip-172-31-14-246.ec2.internal:8042/node/containerlogs/container_1575218563911_0006_01_000001/livy\">Link</a></td><td>✔</td></tr></table>"
      ],
      "text/plain": [
       "<IPython.core.display.HTML object>"
      ]
     },
     "metadata": {},
     "output_type": "display_data"
    },
    {
     "data": {
      "application/vnd.jupyter.widget-view+json": {
       "model_id": "",
       "version_major": 2,
       "version_minor": 0
      },
      "text/plain": [
       "FloatProgress(value=0.0, bar_style='info', description='Progress:', layout=Layout(height='25px', width='50%'),…"
      ]
     },
     "metadata": {},
     "output_type": "display_data"
    },
    {
     "name": "stdout",
     "output_type": "stream",
     "text": [
      "SparkSession available as 'spark'.\n"
     ]
    },
    {
     "data": {
      "text/html": [
       "Current session configs: <tt>{'conf': {'spark.pyspark.python': 'python3', 'spark.pyspark.virtualenv.enabled': 'true', 'spark.pyspark.virtualenv.type': 'native', 'spark.pyspark.virtualenv.bin.path': '/usr/bin/virtualenv'}, 'kind': 'pyspark'}</tt><br>"
      ],
      "text/plain": [
       "<IPython.core.display.HTML object>"
      ]
     },
     "metadata": {},
     "output_type": "display_data"
    },
    {
     "data": {
      "text/html": [
       "<table>\n",
       "<tr><th>ID</th><th>YARN Application ID</th><th>Kind</th><th>State</th><th>Spark UI</th><th>Driver log</th><th>Current session?</th></tr><tr><td>5</td><td>application_1575218563911_0006</td><td>pyspark</td><td>idle</td><td><a target=\"_blank\" href=\"http://ip-172-31-4-82.ec2.internal:20888/proxy/application_1575218563911_0006/\">Link</a></td><td><a target=\"_blank\" href=\"http://ip-172-31-14-246.ec2.internal:8042/node/containerlogs/container_1575218563911_0006_01_000001/livy\">Link</a></td><td>✔</td></tr></table>"
      ],
      "text/plain": [
       "<IPython.core.display.HTML object>"
      ]
     },
     "metadata": {},
     "output_type": "display_data"
    }
   ],
   "source": [
    "%%configure -f\n",
    "{ \"conf\":{\n",
    "\"spark.pyspark.python\": \"python3\",\n",
    "\"spark.pyspark.virtualenv.enabled\": \"true\",\n",
    "\"spark.pyspark.virtualenv.type\":\"native\",\n",
    "\"spark.pyspark.virtualenv.bin.path\":\"/usr/bin/virtualenv\"\n",
    "}}"
   ]
  },
  {
   "cell_type": "markdown",
   "metadata": {},
   "source": [
    "###install python libraries"
   ]
  },
  {
   "cell_type": "code",
   "execution_count": 3,
   "metadata": {},
   "outputs": [
    {
     "data": {
      "application/vnd.jupyter.widget-view+json": {
       "model_id": "216ea04d2f58479fa89f6d61e8528ab5",
       "version_major": 2,
       "version_minor": 0
      },
      "text/plain": [
       "VBox()"
      ]
     },
     "metadata": {},
     "output_type": "display_data"
    },
    {
     "data": {
      "application/vnd.jupyter.widget-view+json": {
       "model_id": "",
       "version_major": 2,
       "version_minor": 0
      },
      "text/plain": [
       "FloatProgress(value=0.0, bar_style='info', description='Progress:', layout=Layout(height='25px', width='50%'),…"
      ]
     },
     "metadata": {},
     "output_type": "display_data"
    },
    {
     "name": "stdout",
     "output_type": "stream",
     "text": [
      "Collecting pandas\n",
      "  Using cached https://files.pythonhosted.org/packages/52/3f/f6a428599e0d4497e1595030965b5ba455fd8ade6e977e3c819973c4b41d/pandas-0.25.3-cp36-cp36m-manylinux1_x86_64.whl\n",
      "Requirement already satisfied: numpy>=1.13.3 in /usr/local/lib64/python3.6/site-packages (from pandas) (1.14.5)\n",
      "Collecting python-dateutil>=2.6.1\n",
      "  Using cached https://files.pythonhosted.org/packages/d4/70/d60450c3dd48ef87586924207ae8907090de0b306af2bce5d134d78615cb/python_dateutil-2.8.1-py2.py3-none-any.whl\n",
      "Requirement already satisfied: pytz>=2017.2 in /usr/local/lib/python3.6/site-packages (from pandas) (2019.3)\n",
      "Requirement already satisfied: six>=1.5 in /usr/local/lib/python3.6/site-packages (from python-dateutil>=2.6.1->pandas) (1.12.0)\n",
      "Installing collected packages: python-dateutil, pandas\n",
      "Successfully installed pandas-0.25.3 python-dateutil-2.8.1\n",
      "\n",
      "Processing /var/lib/livy/.cache/pip/wheels/76/03/bb/589d421d27431bcd2c6da284d5f2286c8e3b2ea3cf1594c074/sklearn-0.0-py2.py3-none-any.whl\n",
      "Collecting scikit-learn\n",
      "  Using cached https://files.pythonhosted.org/packages/a0/c5/d2238762d780dde84a20b8c761f563fe882b88c5a5fb03c056547c442a19/scikit_learn-0.21.3-cp36-cp36m-manylinux1_x86_64.whl\n",
      "Collecting joblib>=0.11\n",
      "  Using cached https://files.pythonhosted.org/packages/8f/42/155696f85f344c066e17af287359c9786b436b1bf86029bb3411283274f3/joblib-0.14.0-py2.py3-none-any.whl\n",
      "Collecting scipy>=0.17.0\n",
      "  Using cached https://files.pythonhosted.org/packages/54/18/d7c101d5e93b6c78dc206fcdf7bd04c1f8138a7b1a93578158fa3b132b08/scipy-1.3.3-cp36-cp36m-manylinux1_x86_64.whl\n",
      "Requirement already satisfied: numpy>=1.11.0 in /usr/local/lib64/python3.6/site-packages (from scikit-learn->sklearn) (1.14.5)\n",
      "Installing collected packages: joblib, scipy, scikit-learn, sklearn\n",
      "Successfully installed joblib-0.14.0 scikit-learn-0.21.3 scipy-1.3.3 sklearn-0.0\n",
      "\n",
      "Collecting tensorflow\n",
      "  Using cached https://files.pythonhosted.org/packages/46/0f/7bd55361168bb32796b360ad15a25de6966c9c1beb58a8e30c01c8279862/tensorflow-2.0.0-cp36-cp36m-manylinux2010_x86_64.whl\n",
      "Collecting keras-applications>=1.0.8\n",
      "  Using cached https://files.pythonhosted.org/packages/71/e3/19762fdfc62877ae9102edf6342d71b28fbfd9dea3d2f96a882ce099b03f/Keras_Applications-1.0.8-py3-none-any.whl\n",
      "Requirement already satisfied: six>=1.10.0 in /usr/local/lib/python3.6/site-packages (from tensorflow) (1.12.0)\n",
      "Processing /var/lib/livy/.cache/pip/wheels/d7/de/2e/efa132238792efb6459a96e85916ef8597fcb3d2ae51590dfd/wrapt-1.11.2-cp36-cp36m-linux_x86_64.whl\n",
      "Collecting tensorflow-estimator<2.1.0,>=2.0.0\n",
      "  Using cached https://files.pythonhosted.org/packages/fc/08/8b927337b7019c374719145d1dceba21a8bb909b93b1ad6f8fb7d22c1ca1/tensorflow_estimator-2.0.1-py2.py3-none-any.whl\n",
      "Requirement already satisfied: wheel>=0.26 in /mnt/tmp/1575241405062-0/lib/python3.6/site-packages (from tensorflow) (0.33.6)\n",
      "Collecting astor>=0.6.0\n",
      "  Using cached https://files.pythonhosted.org/packages/d1/4f/950dfae467b384fc96bc6469de25d832534f6b4441033c39f914efd13418/astor-0.8.0-py2.py3-none-any.whl\n",
      "Processing /var/lib/livy/.cache/pip/wheels/5c/2e/7e/a1d4d4fcebe6c381f378ce7743a3ced3699feb89bcfbdadadd/gast-0.2.2-cp36-none-any.whl\n",
      "Processing /var/lib/livy/.cache/pip/wheels/a7/15/a0/0a0561549ad11cdc1bc8fa1191a353efd30facf6bfb507aefc/absl_py-0.8.1-cp36-none-any.whl\n",
      "Collecting protobuf>=3.6.1\n",
      "  Using cached https://files.pythonhosted.org/packages/7c/7a/9dd834766819195bb054ac7d60aba291e6304301a001751dccb4486b444e/protobuf-3.11.0-cp36-cp36m-manylinux1_x86_64.whl\n",
      "Processing /var/lib/livy/.cache/pip/wheels/7c/06/54/bc84598ba1daf8f970247f550b175aaaee85f68b4b0c5ab2c6/termcolor-1.1.0-cp36-none-any.whl\n",
      "Collecting keras-preprocessing>=1.0.5\n",
      "  Using cached https://files.pythonhosted.org/packages/28/6a/8c1f62c37212d9fc441a7e26736df51ce6f0e38455816445471f10da4f0a/Keras_Preprocessing-1.1.0-py2.py3-none-any.whl\n",
      "Collecting grpcio>=1.8.6\n",
      "  Using cached https://files.pythonhosted.org/packages/27/28/280658104af767431cf25e397157c4f4a8724a446f9dd5a34dac9812e9c9/grpcio-1.25.0-cp36-cp36m-manylinux2010_x86_64.whl\n",
      "Processing /var/lib/livy/.cache/pip/wheels/2c/b1/94/43d03e130b929aae7ba3f8d15cbd7bc0d1cb5bb38a5c721833/opt_einsum-3.1.0-cp36-none-any.whl\n",
      "Collecting tensorboard<2.1.0,>=2.0.0\n",
      "  Using cached https://files.pythonhosted.org/packages/76/54/99b9d5d52d5cb732f099baaaf7740403e83fe6b0cedde940fabd2b13d75a/tensorboard-2.0.2-py3-none-any.whl\n",
      "Collecting google-pasta>=0.1.6\n",
      "  Using cached https://files.pythonhosted.org/packages/c3/fd/1e86bc4837cc9a3a5faf3db9b1854aa04ad35b5f381f9648fbe81a6f94e4/google_pasta-0.1.8-py3-none-any.whl\n",
      "Collecting numpy<2.0,>=1.16.0\n",
      "  Using cached https://files.pythonhosted.org/packages/d2/ab/43e678759326f728de861edbef34b8e2ad1b1490505f20e0d1f0716c3bf4/numpy-1.17.4-cp36-cp36m-manylinux1_x86_64.whl\n",
      "Collecting h5py\n",
      "  Using cached https://files.pythonhosted.org/packages/60/06/cafdd44889200e5438b897388f3075b52a8ef01f28a17366d91de0fa2d05/h5py-2.10.0-cp36-cp36m-manylinux1_x86_64.whl\n",
      "Requirement already satisfied: setuptools in /mnt/tmp/1575241405062-0/lib/python3.6/site-packages (from protobuf>=3.6.1->tensorflow) (42.0.2)\n",
      "Collecting google-auth<2,>=1.6.3\n",
      "  Using cached https://files.pythonhosted.org/packages/7b/cb/786dc53d93494784935a62947643b48250b84a882474e714f9af5e1a1928/google_auth-1.7.1-py2.py3-none-any.whl\n",
      "Collecting werkzeug>=0.11.15\n",
      "  Using cached https://files.pythonhosted.org/packages/ce/42/3aeda98f96e85fd26180534d36570e4d18108d62ae36f87694b476b83d6f/Werkzeug-0.16.0-py2.py3-none-any.whl\n",
      "Collecting requests<3,>=2.21.0\n",
      "  Using cached https://files.pythonhosted.org/packages/51/bd/23c926cd341ea6b7dd0b2a00aba99ae0f828be89d72b2190f27c11d4b7fb/requests-2.22.0-py2.py3-none-any.whl\n",
      "Collecting markdown>=2.6.8\n",
      "  Using cached https://files.pythonhosted.org/packages/c0/4e/fd492e91abdc2d2fcb70ef453064d980688762079397f779758e055f6575/Markdown-3.1.1-py2.py3-none-any.whl\n",
      "Collecting google-auth-oauthlib<0.5,>=0.4.1\n",
      "  Using cached https://files.pythonhosted.org/packages/7b/b8/88def36e74bee9fce511c9519571f4e485e890093ab7442284f4ffaef60b/google_auth_oauthlib-0.4.1-py2.py3-none-any.whl\n",
      "Collecting cachetools<3.2,>=2.0.0\n",
      "  Using cached https://files.pythonhosted.org/packages/2f/a6/30b0a0bef12283e83e58c1d6e7b5aabc7acfc4110df81a4471655d33e704/cachetools-3.1.1-py2.py3-none-any.whl\n",
      "Collecting pyasn1-modules>=0.2.1\n",
      "  Using cached https://files.pythonhosted.org/packages/52/50/bb4cefca37da63a0c52218ba2cb1b1c36110d84dcbae8aa48cd67c5e95c2/pyasn1_modules-0.2.7-py2.py3-none-any.whl\n",
      "Collecting rsa<4.1,>=3.1.4\n",
      "  Using cached https://files.pythonhosted.org/packages/02/e5/38518af393f7c214357079ce67a317307936896e961e35450b70fad2a9cf/rsa-4.0-py2.py3-none-any.whl\n",
      "Collecting idna<2.9,>=2.5\n",
      "  Using cached https://files.pythonhosted.org/packages/14/2c/cd551d81dbe15200be1cf41cd03869a46fe7226e7450af7a6545bfc474c9/idna-2.8-py2.py3-none-any.whl\n",
      "Collecting certifi>=2017.4.17\n",
      "  Using cached https://files.pythonhosted.org/packages/b9/63/df50cac98ea0d5b006c55a399c3bf1db9da7b5a24de7890bc9cfd5dd9e99/certifi-2019.11.28-py2.py3-none-any.whl\n",
      "Collecting urllib3!=1.25.0,!=1.25.1,<1.26,>=1.21.1\n",
      "  Using cached https://files.pythonhosted.org/packages/b4/40/a9837291310ee1ccc242ceb6ebfd9eb21539649f193a7c8c86ba15b98539/urllib3-1.25.7-py2.py3-none-any.whl\n",
      "Collecting chardet<3.1.0,>=3.0.2\n",
      "  Using cached https://files.pythonhosted.org/packages/bc/a9/01ffebfb562e4274b6487b4bb1ddec7ca55ec7510b22e4c51f14098443b8/chardet-3.0.4-py2.py3-none-any.whl\n",
      "Collecting requests-oauthlib>=0.7.0\n",
      "  Using cached https://files.pythonhosted.org/packages/a3/12/b92740d845ab62ea4edf04d2f4164d82532b5a0b03836d4d4e71c6f3d379/requests_oauthlib-1.3.0-py2.py3-none-any.whl\n",
      "Collecting pyasn1<0.5.0,>=0.4.6\n",
      "  Using cached https://files.pythonhosted.org/packages/62/1e/a94a8d635fa3ce4cfc7f506003548d0a2447ae76fd5ca53932970fe3053f/pyasn1-0.4.8-py2.py3-none-any.whl\n",
      "Collecting oauthlib>=3.0.0\n",
      "  Using cached https://files.pythonhosted.org/packages/05/57/ce2e7a8fa7c0afb54a0581b14a65b56e62b5759dbc98e80627142b8a3704/oauthlib-3.1.0-py2.py3-none-any.whl\n",
      "Installing collected packages: numpy, h5py, keras-applications, wrapt, tensorflow-estimator, astor, gast, absl-py, protobuf, termcolor, keras-preprocessing, grpcio, opt-einsum, cachetools, pyasn1, pyasn1-modules, rsa, google-auth, werkzeug, idna, certifi, urllib3, chardet, requests, markdown, oauthlib, requests-oauthlib, google-auth-oauthlib, tensorboard, google-pasta, tensorflow\n",
      "  Found existing installation: numpy 1.14.5\n",
      "    Not uninstalling numpy at /usr/local/lib64/python3.6/site-packages, outside environment /tmp/1575241405062-0\n",
      "    Can't uninstall 'numpy'. No files were found to uninstall.\n",
      "Successfully installed absl-py-0.8.1 astor-0.8.0 cachetools-3.1.1 certifi-2019.11.28 chardet-3.0.4 gast-0.2.2 google-auth-1.7.1 google-auth-oauthlib-0.4.1 google-pasta-0.1.8 grpcio-1.25.0 h5py-2.10.0 idna-2.8 keras-applications-1.0.8 keras-preprocessing-1.1.0 markdown-3.1.1 numpy-1.17.4 oauthlib-3.1.0 opt-einsum-3.1.0 protobuf-3.11.0 pyasn1-0.4.8 pyasn1-modules-0.2.7 requests-2.22.0 requests-oauthlib-1.3.0 rsa-4.0 tensorboard-2.0.2 tensorflow-2.0.0 tensorflow-estimator-2.0.1 termcolor-1.1.0 urllib3-1.25.7 werkzeug-0.16.0 wrapt-1.11.2\n",
      "\n",
      "Collecting elephas\n",
      "  Using cached https://files.pythonhosted.org/packages/f9/c2/5714821f9efa931d9af90af0d2c6cd96174afdde7313d882fcfa6e7e514c/elephas-0.4.2-py3-none-any.whl\n",
      "Collecting cython\n",
      "  Using cached https://files.pythonhosted.org/packages/df/d1/4d3f8a7a920e805488a966cc6ab55c978a712240f584445d703c08b9f405/Cython-0.29.14-cp36-cp36m-manylinux1_x86_64.whl\n",
      "Collecting flask\n",
      "  Using cached https://files.pythonhosted.org/packages/9b/93/628509b8d5dc749656a9641f4caf13540e2cdec85276964ff8f43bbb1d3b/Flask-1.1.1-py2.py3-none-any.whl\n",
      "Requirement already satisfied: tensorflow in /mnt/tmp/1575241405062-0/lib64/python3.6/site-packages (from elephas) (2.0.0)\n",
      "Processing /var/lib/livy/.cache/pip/wheels/ab/09/4d/0d184230058e654eb1b04467dbc1292f00eaa186544604b471/pyspark-2.4.4-py2.py3-none-any.whl\n",
      "Collecting hyperas\n",
      "  Using cached https://files.pythonhosted.org/packages/04/34/87ad6ffb42df9c1fa9c4c906f65813d42ad70d68c66af4ffff048c228cd4/hyperas-0.4.1-py3-none-any.whl\n",
      "Collecting keras\n",
      "  Using cached https://files.pythonhosted.org/packages/ad/fd/6bfe87920d7f4fd475acd28500a42482b6b84479832bdc0fe9e589a60ceb/Keras-2.3.1-py2.py3-none-any.whl\n",
      "Requirement already satisfied: six in /usr/local/lib/python3.6/site-packages (from elephas) (1.12.0)\n",
      "Collecting itsdangerous>=0.24\n",
      "  Using cached https://files.pythonhosted.org/packages/76/ae/44b03b253d6fade317f32c24d100b3b35c2239807046a4c953c7b89fa49e/itsdangerous-1.1.0-py2.py3-none-any.whl\n",
      "Collecting click>=5.1\n",
      "  Using cached https://files.pythonhosted.org/packages/fa/37/45185cb5abbc30d7257104c434fe0b07e5a195a6847506c074527aa599ec/Click-7.0-py2.py3-none-any.whl\n",
      "Requirement already satisfied: Werkzeug>=0.15 in /mnt/tmp/1575241405062-0/lib64/python3.6/site-packages (from flask->elephas) (0.16.0)\n",
      "Collecting Jinja2>=2.10.1\n",
      "  Using cached https://files.pythonhosted.org/packages/65/e0/eb35e762802015cab1ccee04e8a277b03f1d8e53da3ec3106882ec42558b/Jinja2-2.10.3-py2.py3-none-any.whl\n",
      "Requirement already satisfied: keras-applications>=1.0.8 in /mnt/tmp/1575241405062-0/lib64/python3.6/site-packages (from tensorflow->elephas) (1.0.8)\n",
      "Requirement already satisfied: wrapt>=1.11.1 in /mnt/tmp/1575241405062-0/lib64/python3.6/site-packages (from tensorflow->elephas) (1.11.2)\n",
      "Requirement already satisfied: tensorflow-estimator<2.1.0,>=2.0.0 in /mnt/tmp/1575241405062-0/lib/python3.6/site-packages (from tensorflow->elephas) (2.0.1)\n",
      "Requirement already satisfied: wheel>=0.26 in /mnt/tmp/1575241405062-0/lib/python3.6/site-packages (from tensorflow->elephas) (0.33.6)\n",
      "Requirement already satisfied: astor>=0.6.0 in /mnt/tmp/1575241405062-0/lib/python3.6/site-packages (from tensorflow->elephas) (0.8.0)\n",
      "Requirement already satisfied: gast==0.2.2 in /mnt/tmp/1575241405062-0/lib/python3.6/site-packages (from tensorflow->elephas) (0.2.2)\n",
      "Requirement already satisfied: absl-py>=0.7.0 in /mnt/tmp/1575241405062-0/lib/python3.6/site-packages (from tensorflow->elephas) (0.8.1)\n",
      "Requirement already satisfied: protobuf>=3.6.1 in /mnt/tmp/1575241405062-0/lib64/python3.6/site-packages (from tensorflow->elephas) (3.11.0)\n",
      "Requirement already satisfied: termcolor>=1.1.0 in /mnt/tmp/1575241405062-0/lib/python3.6/site-packages (from tensorflow->elephas) (1.1.0)\n",
      "Requirement already satisfied: keras-preprocessing>=1.0.5 in /mnt/tmp/1575241405062-0/lib64/python3.6/site-packages (from tensorflow->elephas) (1.1.0)\n",
      "Requirement already satisfied: grpcio>=1.8.6 in /mnt/tmp/1575241405062-0/lib64/python3.6/site-packages (from tensorflow->elephas) (1.25.0)\n",
      "Requirement already satisfied: opt-einsum>=2.3.2 in /mnt/tmp/1575241405062-0/lib/python3.6/site-packages (from tensorflow->elephas) (3.1.0)\n",
      "Requirement already satisfied: tensorboard<2.1.0,>=2.0.0 in /mnt/tmp/1575241405062-0/lib/python3.6/site-packages (from tensorflow->elephas) (2.0.2)\n",
      "Requirement already satisfied: google-pasta>=0.1.6 in /mnt/tmp/1575241405062-0/lib/python3.6/site-packages (from tensorflow->elephas) (0.1.8)\n",
      "Requirement already satisfied: numpy<2.0,>=1.16.0 in /mnt/tmp/1575241405062-0/lib64/python3.6/site-packages (from tensorflow->elephas) (1.17.4)\n",
      "Collecting py4j==0.10.7\n",
      "  Using cached https://files.pythonhosted.org/packages/e3/53/c737818eb9a7dc32a7cd4f1396e787bd94200c3997c72c1dbe028587bd76/py4j-0.10.7-py2.py3-none-any.whl\n",
      "Collecting hyperopt\n",
      "  Using cached https://files.pythonhosted.org/packages/0b/4a/79541d4f61e7878f846f68ab31ed709bac6ee99345378c0e02658c3be0d4/hyperopt-0.2.2-py3-none-any.whl\n",
      "Collecting nbconvert\n",
      "  Using cached https://files.pythonhosted.org/packages/79/6c/05a569e9f703d18aacb89b7ad6075b404e8a4afde2c26b73ca77bb644b14/nbconvert-5.6.1-py2.py3-none-any.whl\n",
      "Collecting nbformat\n",
      "  Using cached https://files.pythonhosted.org/packages/da/27/9a654d2b6cc1eaa517d1c5a4405166c7f6d72f04f6e7eea41855fe808a46/nbformat-4.4.0-py2.py3-none-any.whl\n",
      "Collecting entrypoints\n",
      "  Using cached https://files.pythonhosted.org/packages/ac/c6/44694103f8c221443ee6b0041f69e2740d89a25641e62fb4f2ee568f2f9c/entrypoints-0.3-py2.py3-none-any.whl\n",
      "Collecting jupyter\n",
      "  Using cached https://files.pythonhosted.org/packages/83/df/0f5dd132200728a86190397e1ea87cd76244e42d39ec5e88efd25b2abd7e/jupyter-1.0.0-py2.py3-none-any.whl\n",
      "Requirement already satisfied: pyyaml in /usr/local/lib64/python3.6/site-packages (from keras->elephas) (3.11)\n",
      "Requirement already satisfied: h5py in /mnt/tmp/1575241405062-0/lib64/python3.6/site-packages (from keras->elephas) (2.10.0)\n",
      "Requirement already satisfied: scipy>=0.14 in /mnt/tmp/1575241405062-0/lib64/python3.6/site-packages (from keras->elephas) (1.3.3)\n",
      "Collecting MarkupSafe>=0.23\n",
      "  Using cached https://files.pythonhosted.org/packages/b2/5f/23e0023be6bb885d00ffbefad2942bc51a620328ee910f64abe5a8d18dd1/MarkupSafe-1.1.1-cp36-cp36m-manylinux1_x86_64.whl\n",
      "Requirement already satisfied: setuptools in /mnt/tmp/1575241405062-0/lib/python3.6/site-packages (from protobuf>=3.6.1->tensorflow->elephas) (42.0.2)\n",
      "Requirement already satisfied: google-auth<2,>=1.6.3 in /mnt/tmp/1575241405062-0/lib/python3.6/site-packages (from tensorboard<2.1.0,>=2.0.0->tensorflow->elephas) (1.7.1)\n",
      "Requirement already satisfied: requests<3,>=2.21.0 in /mnt/tmp/1575241405062-0/lib/python3.6/site-packages (from tensorboard<2.1.0,>=2.0.0->tensorflow->elephas) (2.22.0)\n",
      "Requirement already satisfied: markdown>=2.6.8 in /mnt/tmp/1575241405062-0/lib64/python3.6/site-packages (from tensorboard<2.1.0,>=2.0.0->tensorflow->elephas) (3.1.1)\n",
      "Requirement already satisfied: google-auth-oauthlib<0.5,>=0.4.1 in /mnt/tmp/1575241405062-0/lib/python3.6/site-packages (from tensorboard<2.1.0,>=2.0.0->tensorflow->elephas) (0.4.1)\n",
      "Collecting tqdm\n",
      "  Using cached https://files.pythonhosted.org/packages/a5/13/cd55c23e3e158ed5b87cae415ee3844fc54cb43803fa3a0a064d23ecb883/tqdm-4.40.0-py2.py3-none-any.whl\n",
      "Collecting cloudpickle\n",
      "  Using cached https://files.pythonhosted.org/packages/c1/49/334e279caa3231255725c8e860fa93e72083567625573421db8875846c14/cloudpickle-1.2.2-py2.py3-none-any.whl\n",
      "Processing /var/lib/livy/.cache/pip/wheels/68/f8/29/b53346a112a07d30a5a84d53f19aeadaa1a474897c0423af91/networkx-2.2-py2.py3-none-any.whl\n",
      "Processing /var/lib/livy/.cache/pip/wheels/8b/99/a0/81daf51dcd359a9377b110a8a886b3895921802d2fc1b2397e/future-0.18.2-cp36-none-any.whl\n",
      "Collecting traitlets>=4.2\n",
      "  Using cached https://files.pythonhosted.org/packages/ca/ab/872a23e29cec3cf2594af7e857f18b687ad21039c1f9b922fac5b9b142d5/traitlets-4.3.3-py2.py3-none-any.whl\n",
      "Collecting jupyter-core\n",
      "  Using cached https://files.pythonhosted.org/packages/fb/82/86437f661875e30682e99d04c13ba6c216f86f5f6ca6ef212d3ee8b6ca11/jupyter_core-4.6.1-py2.py3-none-any.whl\n",
      "Collecting pygments\n",
      "  Using cached https://files.pythonhosted.org/packages/be/39/32da3184734730c0e4d3fa3b2b5872104668ad6dc1b5a73d8e477e5fe967/Pygments-2.5.2-py2.py3-none-any.whl\n",
      "Collecting bleach\n",
      "  Using cached https://files.pythonhosted.org/packages/ab/05/27e1466475e816d3001efb6e0a85a819be17411420494a1e602c36f8299d/bleach-3.1.0-py2.py3-none-any.whl\n",
      "Collecting mistune<2,>=0.8.1\n",
      "  Using cached https://files.pythonhosted.org/packages/09/ec/4b43dae793655b7d8a25f76119624350b4d65eb663459eb9603d7f1f0345/mistune-0.8.4-py2.py3-none-any.whl\n",
      "Processing /var/lib/livy/.cache/pip/wheels/39/01/56/f1b08a6275acc59e846fa4c1e1b65dbc1919f20157d9e66c20/pandocfilters-1.4.2-cp36-none-any.whl\n",
      "Collecting testpath\n",
      "  Using cached https://files.pythonhosted.org/packages/1b/9e/1a170feaa54f22aeb5a5d16c9015e82234275a3c8ab630b552493f9cb8a9/testpath-0.4.4-py2.py3-none-any.whl\n",
      "Collecting defusedxml\n",
      "  Using cached https://files.pythonhosted.org/packages/06/74/9b387472866358ebc08732de3da6dc48e44b0aacd2ddaa5cb85ab7e986a2/defusedxml-0.6.0-py2.py3-none-any.whl\n",
      "Collecting jsonschema!=2.5.0,>=2.4\n",
      "  Using cached https://files.pythonhosted.org/packages/c5/8f/51e89ce52a085483359217bc72cdbf6e75ee595d5b1d4b5ade40c7e018b8/jsonschema-3.2.0-py2.py3-none-any.whl\n",
      "Collecting ipython-genutils\n",
      "  Using cached https://files.pythonhosted.org/packages/fa/bc/9bd3b5c2b4774d5f33b2d544f1460be9df7df2fe42f352135381c347c69a/ipython_genutils-0.2.0-py2.py3-none-any.whl\n",
      "Collecting notebook\n",
      "  Using cached https://files.pythonhosted.org/packages/f5/69/d2ffaf7efc20ce47469187e3a41e6e03e17b45de5a6559f4e7ab3eace5e1/notebook-6.0.2-py3-none-any.whl\n",
      "Collecting jupyter-console\n",
      "  Using cached https://files.pythonhosted.org/packages/cb/ee/6374ae8c21b7d0847f9c3722dcdfac986b8e54fa9ad9ea66e1eb6320d2b8/jupyter_console-6.0.0-py2.py3-none-any.whl\n",
      "Collecting qtconsole\n",
      "  Using cached https://files.pythonhosted.org/packages/7c/57/3528b84ffa753e2089908bbf74bb5ae60653eb7a63797b6234e88b847d67/qtconsole-4.6.0-py2.py3-none-any.whl\n",
      "Collecting ipykernel\n",
      "  Using cached https://files.pythonhosted.org/packages/e1/92/8fec943b5b81078399f969f00557804d884c96fcd0bc296e81a2ed4fd270/ipykernel-5.1.3-py3-none-any.whl\n",
      "Collecting ipywidgets\n",
      "  Using cached https://files.pythonhosted.org/packages/56/a0/dbcf5881bb2f51e8db678211907f16ea0a182b232c591a6d6f276985ca95/ipywidgets-7.5.1-py2.py3-none-any.whl\n",
      "Requirement already satisfied: cachetools<3.2,>=2.0.0 in /mnt/tmp/1575241405062-0/lib/python3.6/site-packages (from google-auth<2,>=1.6.3->tensorboard<2.1.0,>=2.0.0->tensorflow->elephas) (3.1.1)\n",
      "Requirement already satisfied: pyasn1-modules>=0.2.1 in /mnt/tmp/1575241405062-0/lib/python3.6/site-packages (from google-auth<2,>=1.6.3->tensorboard<2.1.0,>=2.0.0->tensorflow->elephas) (0.2.7)\n",
      "Requirement already satisfied: rsa<4.1,>=3.1.4 in /mnt/tmp/1575241405062-0/lib/python3.6/site-packages (from google-auth<2,>=1.6.3->tensorboard<2.1.0,>=2.0.0->tensorflow->elephas) (4.0)\n",
      "Requirement already satisfied: idna<2.9,>=2.5 in /mnt/tmp/1575241405062-0/lib/python3.6/site-packages (from requests<3,>=2.21.0->tensorboard<2.1.0,>=2.0.0->tensorflow->elephas) (2.8)\n",
      "Requirement already satisfied: certifi>=2017.4.17 in /mnt/tmp/1575241405062-0/lib/python3.6/site-packages (from requests<3,>=2.21.0->tensorboard<2.1.0,>=2.0.0->tensorflow->elephas) (2019.11.28)\n",
      "Requirement already satisfied: urllib3!=1.25.0,!=1.25.1,<1.26,>=1.21.1 in /mnt/tmp/1575241405062-0/lib/python3.6/site-packages (from requests<3,>=2.21.0->tensorboard<2.1.0,>=2.0.0->tensorflow->elephas) (1.25.7)\n",
      "Requirement already satisfied: chardet<3.1.0,>=3.0.2 in /mnt/tmp/1575241405062-0/lib/python3.6/site-packages (from requests<3,>=2.21.0->tensorboard<2.1.0,>=2.0.0->tensorflow->elephas) (3.0.4)\n",
      "Requirement already satisfied: requests-oauthlib>=0.7.0 in /mnt/tmp/1575241405062-0/lib/python3.6/site-packages (from google-auth-oauthlib<0.5,>=0.4.1->tensorboard<2.1.0,>=2.0.0->tensorflow->elephas) (1.3.0)\n",
      "Collecting decorator>=4.3.0\n",
      "  Using cached https://files.pythonhosted.org/packages/8f/b7/f329cfdc75f3d28d12c65980e4469e2fa373f1953f5df6e370e84ea2e875/decorator-4.4.1-py2.py3-none-any.whl\n",
      "Collecting webencodings\n",
      "  Using cached https://files.pythonhosted.org/packages/f4/24/2a3e3df732393fed8b3ebf2ec078f05546de641fe1b667ee316ec1dcf3b7/webencodings-0.5.1-py2.py3-none-any.whl\n",
      "Collecting importlib-metadata; python_version < \"3.8\"\n",
      "  Using cached https://files.pythonhosted.org/packages/ed/82/ebece33bc20b9097683d09e47563d487e411e2cf3a37789d7ec0a88c4ce4/importlib_metadata-1.1.0-py2.py3-none-any.whl\n",
      "Collecting attrs>=17.4.0\n",
      "  Using cached https://files.pythonhosted.org/packages/a2/db/4313ab3be961f7a763066401fb77f7748373b6094076ae2bda2806988af6/attrs-19.3.0-py2.py3-none-any.whl\n",
      "Processing /var/lib/livy/.cache/pip/wheels/83/89/d3/1712b9c33c9b9c0911b188a86aeff2a9a05e113f986cf79d92/pyrsistent-0.15.6-cp36-cp36m-linux_x86_64.whl\n",
      "Collecting Send2Trash\n",
      "  Using cached https://files.pythonhosted.org/packages/49/46/c3dc27481d1cc57b9385aff41c474ceb7714f7935b1247194adae45db714/Send2Trash-1.5.0-py3-none-any.whl\n",
      "Collecting jupyter-client>=5.3.4\n",
      "  Using cached https://files.pythonhosted.org/packages/13/81/fe0eee1bcf949851a120254b1f530ae1e01bdde2d3ab9710c6ff81525061/jupyter_client-5.3.4-py2.py3-none-any.whl\n",
      "Processing /var/lib/livy/.cache/pip/wheels/1c/54/34/fd47cd9b308826cc4292b54449c1899a30251ef3b506bc91ea/prometheus_client-0.7.1-cp36-none-any.whl\n",
      "Collecting terminado>=0.8.1\n",
      "  Using cached https://files.pythonhosted.org/packages/ff/96/1d9a2c23990aea8f8e0b5c3b6627d03196a73771a17a2d9860bbe9823ab6/terminado-0.8.3-py2.py3-none-any.whl\n",
      "Collecting pyzmq>=17\n",
      "  Using cached https://files.pythonhosted.org/packages/94/07/cee3d328a2e13f9de1c2b62cced7a389b61ac81424f2e377f3dc9d668282/pyzmq-18.1.1-cp36-cp36m-manylinux1_x86_64.whl\n",
      "Processing /var/lib/livy/.cache/pip/wheels/84/bf/40/2f6ef700f48401ca40e5e3dd7d0e3c0a90e064897b7fe5fc08/tornado-6.0.3-cp36-cp36m-linux_x86_64.whl\n",
      "Collecting prompt-toolkit<2.1.0,>=2.0.0\n",
      "  Using cached https://files.pythonhosted.org/packages/87/61/2dfea88583d5454e3a64f9308a686071d58d59a55db638268a6413e1eb6d/prompt_toolkit-2.0.10-py3-none-any.whl\n",
      "Collecting ipython\n",
      "  Using cached https://files.pythonhosted.org/packages/00/17/c3e3dd337cc601b47c599441786fd4e888b587a2a512d38ac752274fd0bc/ipython-7.10.1-py3-none-any.whl\n",
      "Collecting widgetsnbextension~=3.5.0\n",
      "  Using cached https://files.pythonhosted.org/packages/6c/7b/7ac231c20d2d33c445eaacf8a433f4e22c60677eb9776c7c5262d7ddee2d/widgetsnbextension-3.5.1-py2.py3-none-any.whl\n",
      "Requirement already satisfied: pyasn1<0.5.0,>=0.4.6 in /mnt/tmp/1575241405062-0/lib/python3.6/site-packages (from pyasn1-modules>=0.2.1->google-auth<2,>=1.6.3->tensorboard<2.1.0,>=2.0.0->tensorflow->elephas) (0.4.8)\n",
      "Requirement already satisfied: oauthlib>=3.0.0 in /mnt/tmp/1575241405062-0/lib/python3.6/site-packages (from requests-oauthlib>=0.7.0->google-auth-oauthlib<0.5,>=0.4.1->tensorboard<2.1.0,>=2.0.0->tensorflow->elephas) (3.1.0)\n",
      "Collecting zipp>=0.5\n",
      "  Using cached https://files.pythonhosted.org/packages/74/3d/1ee25a26411ba0401b43c6376d2316a71addcc72ef8690b101b4ea56d76a/zipp-0.6.0-py2.py3-none-any.whl\n",
      "Requirement already satisfied: python-dateutil>=2.1 in /mnt/tmp/1575241405062-0/lib/python3.6/site-packages (from jupyter-client>=5.3.4->notebook->jupyter->hyperas->elephas) (2.8.1)\n",
      "Collecting ptyprocess; os_name != \"nt\"\n",
      "  Using cached https://files.pythonhosted.org/packages/d1/29/605c2cc68a9992d18dada28206eeada56ea4bd07a239669da41674648b6f/ptyprocess-0.6.0-py2.py3-none-any.whl\n",
      "Collecting wcwidth\n",
      "  Using cached https://files.pythonhosted.org/packages/7e/9f/526a6947247599b084ee5232e4f9190a38f398d7300d866af3ab571a5bfe/wcwidth-0.1.7-py2.py3-none-any.whl\n",
      "Processing /var/lib/livy/.cache/pip/wheels/98/b0/dd/29e28ff615af3dda4c67cab719dd51357597eabff926976b45/backcall-0.1.0-cp36-none-any.whl\n",
      "Collecting pickleshare\n",
      "  Using cached https://files.pythonhosted.org/packages/9a/41/220f49aaea88bc6fa6cba8d05ecf24676326156c23b991e80b3f2fc24c77/pickleshare-0.7.5-py2.py3-none-any.whl\n",
      "Collecting pexpect; sys_platform != \"win32\"\n",
      "  Using cached https://files.pythonhosted.org/packages/0e/3e/377007e3f36ec42f1b84ec322ee12141a9e10d808312e5738f52f80a232c/pexpect-4.7.0-py2.py3-none-any.whl\n",
      "Collecting jedi>=0.10\n",
      "  Using cached https://files.pythonhosted.org/packages/55/54/da994f359e4e7da4776a200e76dbc85ba5fc319eefc22e33d55296d95a1d/jedi-0.15.1-py2.py3-none-any.whl\n",
      "Collecting more-itertools\n",
      "  Using cached https://files.pythonhosted.org/packages/5c/1d/3df99de956abb96305956e09e6a1fa955883295e1f28808f9c97b3d5364d/more_itertools-8.0.0-py3-none-any.whl\n",
      "Collecting parso>=0.5.0\n",
      "  Using cached https://files.pythonhosted.org/packages/a3/bd/bf4e5bd01d79906e5b945a7af033154da49fd2b0d5b5c705a21330323305/parso-0.5.1-py2.py3-none-any.whl\n",
      "Installing collected packages: cython, itsdangerous, click, MarkupSafe, Jinja2, flask, py4j, pyspark, tqdm, cloudpickle, decorator, networkx, future, hyperopt, ipython-genutils, traitlets, jupyter-core, pygments, more-itertools, zipp, importlib-metadata, attrs, pyrsistent, jsonschema, nbformat, webencodings, bleach, mistune, entrypoints, pandocfilters, testpath, defusedxml, nbconvert, keras, Send2Trash, pyzmq, tornado, jupyter-client, prometheus-client, ptyprocess, terminado, backcall, pickleshare, wcwidth, prompt-toolkit, pexpect, parso, jedi, ipython, ipykernel, notebook, jupyter-console, qtconsole, widgetsnbextension, ipywidgets, jupyter, hyperas, elephas\n",
      "Successfully installed Jinja2-2.10.3 MarkupSafe-1.1.1 Send2Trash-1.5.0 attrs-19.3.0 backcall-0.1.0 bleach-3.1.0 click-7.0 cloudpickle-1.2.2 cython-0.29.14 decorator-4.4.1 defusedxml-0.6.0 elephas-0.4.2 entrypoints-0.3 flask-1.1.1 future-0.18.2 hyperas-0.4.1 hyperopt-0.2.2 importlib-metadata-1.1.0 ipykernel-5.1.3 ipython-7.10.1 ipython-genutils-0.2.0 ipywidgets-7.5.1 itsdangerous-1.1.0 jedi-0.15.1 jsonschema-3.2.0 jupyter-1.0.0 jupyter-client-5.3.4 jupyter-console-6.0.0 jupyter-core-4.6.1 keras-2.3.1 mistune-0.8.4 more-itertools-8.0.0 nbconvert-5.6.1 nbformat-4.4.0 networkx-2.2 notebook-6.0.2 pandocfilters-1.4.2 parso-0.5.1 pexpect-4.7.0 pickleshare-0.7.5 prometheus-client-0.7.1 prompt-toolkit-2.0.10 ptyprocess-0.6.0 py4j-0.10.7 pygments-2.5.2 pyrsistent-0.15.6 pyspark-2.4.4 pyzmq-18.1.1 qtconsole-4.6.0 terminado-0.8.3 testpath-0.4.4 tornado-6.0.3 tqdm-4.40.0 traitlets-4.3.3 wcwidth-0.1.7 webencodings-0.5.1 widgetsnbextension-3.5.1 zipp-0.6.0\n",
      "\n",
      "Requirement already satisfied: keras in /mnt/tmp/1575241405062-0/lib64/python3.6/site-packages (2.3.1)\n",
      "Requirement already satisfied: keras-applications>=1.0.6 in /mnt/tmp/1575241405062-0/lib64/python3.6/site-packages (from keras) (1.0.8)\n",
      "Requirement already satisfied: six>=1.9.0 in /usr/local/lib/python3.6/site-packages (from keras) (1.12.0)\n",
      "Requirement already satisfied: pyyaml in /usr/local/lib64/python3.6/site-packages (from keras) (3.11)\n",
      "Requirement already satisfied: h5py in /mnt/tmp/1575241405062-0/lib64/python3.6/site-packages (from keras) (2.10.0)\n",
      "Requirement already satisfied: scipy>=0.14 in /mnt/tmp/1575241405062-0/lib64/python3.6/site-packages (from keras) (1.3.3)\n",
      "Requirement already satisfied: keras-preprocessing>=1.0.5 in /mnt/tmp/1575241405062-0/lib64/python3.6/site-packages (from keras) (1.1.0)\n",
      "Requirement already satisfied: numpy>=1.9.1 in /mnt/tmp/1575241405062-0/lib64/python3.6/site-packages (from keras) (1.17.4)\n",
      "\n",
      "Processing /var/lib/livy/.cache/pip/wheels/30/84/5f/484cfba678967ef58c16fce6890925d5c7172622f20111fbfd/request-2019.4.13-cp36-none-any.whl\n",
      "Processing /var/lib/livy/.cache/pip/wheels/c3/c3/24/b5c132b537ab380c02d69e6bd4dec1f5db56b5fe19030473d7/post-2019.4.13-cp36-none-any.whl\n",
      "Processing /var/lib/livy/.cache/pip/wheels/c1/e3/c1/d02c8c58538853e4c9b78cadb74f6d5c5c370b48a69a7271aa/get-2019.4.13-cp36-none-any.whl\n",
      "Requirement already satisfied: setuptools in /mnt/tmp/1575241405062-0/lib/python3.6/site-packages (from request) (42.0.2)\n",
      "Processing /var/lib/livy/.cache/pip/wheels/d6/a4/78/01b20a9dc224dcc009fab669f7f27b943b8889c5150bd68d8a/query_string-2019.4.13-cp36-none-any.whl\n",
      "Processing /var/lib/livy/.cache/pip/wheels/23/7c/6e/f5b4e09d6596c8b8802b347e48f149031e2363368048f1347a/public-2019.4.13-cp36-none-any.whl\n",
      "Installing collected packages: post, public, query-string, get, request\n",
      "Successfully installed get-2019.4.13 post-2019.4.13 public-2019.4.13 query-string-2019.4.13 request-2019.4.13\n",
      "\n",
      "\n",
      "\n",
      "ERROR: python36-sagemaker-pyspark 1.2.6 requires pyspark==2.3.2, which is not installed.\n",
      "\n",
      "ERROR: python36-sagemaker-pyspark 1.2.6 has requirement pyspark==2.3.2, but you'll have pyspark 2.4.4 which is incompatible."
     ]
    }
   ],
   "source": [
    "sc.install_pypi_package(\"pandas\")\n",
    "sc.install_pypi_package(\"sklearn\")\n",
    "sc.install_pypi_package(\"tensorflow\")\n",
    "sc.install_pypi_package(\"elephas\")\n",
    "sc.install_pypi_package(\"keras\")\n",
    "sc.install_pypi_package(\"request\")"
   ]
  },
  {
   "cell_type": "markdown",
   "metadata": {},
   "source": [
    "###Retrieving data from Dark Sky API"
   ]
  },
  {
   "cell_type": "code",
   "execution_count": 4,
   "metadata": {},
   "outputs": [
    {
     "data": {
      "application/vnd.jupyter.widget-view+json": {
       "model_id": "f9db0b7e5fd64036bee9910db89fa874",
       "version_major": 2,
       "version_minor": 0
      },
      "text/plain": [
       "VBox()"
      ]
     },
     "metadata": {},
     "output_type": "display_data"
    },
    {
     "data": {
      "application/vnd.jupyter.widget-view+json": {
       "model_id": "",
       "version_major": 2,
       "version_minor": 0
      },
      "text/plain": [
       "FloatProgress(value=0.0, bar_style='info', description='Progress:', layout=Layout(height='25px', width='50%'),…"
      ]
     },
     "metadata": {},
     "output_type": "display_data"
    }
   ],
   "source": [
    "import csv\n",
    "import requests\n",
    "import pandas as pd\n",
    "import time\n",
    "def retrieve_data():\n",
    "    def converTime(dt):\n",
    "        timeArray = time.strptime(dt, \"%Y-%m-%d\")\n",
    "        timestamp = time.mktime(timeArray).__int__()\n",
    "        return timestamp\n",
    "\n",
    "\n",
    "    def converBack(ts):\n",
    "        time_format = time.localtime(ts)\n",
    "        dt = time.strftime(\"%Y-%m-%d %H:%M\", time_format)\n",
    "        return str(dt)\n",
    "\n",
    "\n",
    "    def plusOneDay(dt):\n",
    "        end_date = pd.to_datetime(dt) + pd.DateOffset(days=1)\n",
    "        return str(end_date)[0:10]\n",
    "\n",
    "    # Using Loop to control the message number of Temperature\n",
    "    start_date = \"2018-11-1\"\n",
    "    day_num = 150\n",
    "    output_file = open(\n",
    "        file=\"/result/dataset\",\n",
    "        mode=\"wt\",\n",
    "        newline=\"\")\n",
    "    csv_writer = csv.writer(output_file)\n",
    "    csv_writer.writerow([\"time\", \"summary\",\"icon\",\"precipIntensity\",\"precipProbability\",\"precipType\",\"temperature\",\n",
    "                         \"apparentTemperature\",\"dewPoint\",\"humidity\",\"pressure\",\"windSpeed\",\"windGust\",\"windBearing\",\n",
    "                         \"cloudCover\",\"uvIndex\",\"visibility\",\"ozone\"])\n",
    "    for i in range(day_num):\n",
    "        time_stamp = converTime(start_date)\n",
    "        # Call Dark Sky api to retrieve the temperature of specific date\n",
    "        DALLAS = 32.7767, -96.7970\n",
    "        api_key = \"4650359a111dac80aafb7fa8d846f0cb\"\n",
    "        url_template = \"https://api.darksky.net/forecast/{}/{},{},{}?exclude=currently,flags,daily\"\n",
    "        request_url = url_template.format(api_key, DALLAS[0], DALLAS[1], time_stamp)\n",
    "        response = requests.get(request_url)\n",
    "        json_data = response.json()\n",
    "        for i in range(len(json_data[\"hourly\"][\"data\"])):\n",
    "            # Save the result as CSV rows\n",
    "            time_column = json_data[\"hourly\"][\"data\"][i][\"time\"]\n",
    "            converted_time = converBack(time_column)\n",
    "            summary_column = \"None\"\n",
    "            icon_column = \"None\"\n",
    "            precipIntensity_column = \"None\"\n",
    "            precipProbability_column = \"None\"\n",
    "            precipType_column = \"None\"\n",
    "            temperature_column = \"None\"\n",
    "            apparentTemperature_column = \"None\"\n",
    "            dewPoint_column = \"None\"\n",
    "            humidity_column = \"None\"\n",
    "            pressure_column = \"None\"\n",
    "            windSpeed_column = \"None\"\n",
    "            windGust_column = \"None\"\n",
    "            windBearing_column = \"None\"\n",
    "            cloudCover_column = \"None\"\n",
    "            uvIndex_column = \"None\"\n",
    "            visibility_column = \"None\"\n",
    "            if(\"summary\" in json_data[\"hourly\"][\"data\"][i]):\n",
    "                summary_column = json_data[\"hourly\"][\"data\"][i][\"summary\"]\n",
    "            if (\"icon\" in json_data[\"hourly\"][\"data\"][i]):\n",
    "                icon_column = json_data[\"hourly\"][\"data\"][i][\"icon\"]\n",
    "            if (\"precipIntensity\" in json_data[\"hourly\"][\"data\"][i]):\n",
    "                precipIntensity_column = json_data[\"hourly\"][\"data\"][i][\"precipIntensity\"]\n",
    "            if (\"precipProbability\" in json_data[\"hourly\"][\"data\"][i]):\n",
    "                precipProbability_column = json_data[\"hourly\"][\"data\"][i][\"precipProbability\"]\n",
    "            if (\"precipType\" in json_data[\"hourly\"][\"data\"][i]):\n",
    "                precipType_column = json_data[\"hourly\"][\"data\"][i][\"precipType\"]\n",
    "            if (\"temperature\" in json_data[\"hourly\"][\"data\"][i]):\n",
    "                temperature_column = json_data[\"hourly\"][\"data\"][i][\"temperature\"]\n",
    "            if (\"apparentTemperature\" in json_data[\"hourly\"][\"data\"][i]):\n",
    "                apparentTemperature_column = json_data[\"hourly\"][\"data\"][i][\"apparentTemperature\"]\n",
    "            if (\"dewPoint\" in json_data[\"hourly\"][\"data\"][i]):\n",
    "                dewPoint_column = json_data[\"hourly\"][\"data\"][i][\"dewPoint\"]\n",
    "            if (\"humidity\" in json_data[\"hourly\"][\"data\"][i]):\n",
    "                humidity_column = json_data[\"hourly\"][\"data\"][i][\"humidity\"]\n",
    "            if (\"pressure\" in json_data[\"hourly\"][\"data\"][i]):\n",
    "                pressure_column = json_data[\"hourly\"][\"data\"][i][\"pressure\"]\n",
    "            if (\"windSpeed\" in json_data[\"hourly\"][\"data\"][i]):\n",
    "                windSpeed_column = json_data[\"hourly\"][\"data\"][i][\"windSpeed\"]\n",
    "            if (\"windGust\" in json_data[\"hourly\"][\"data\"][i]):\n",
    "                windGust_column = json_data[\"hourly\"][\"data\"][i][\"windGust\"]\n",
    "            if (\"windBearing\" in json_data[\"hourly\"][\"data\"][i]):\n",
    "                windBearing_column = json_data[\"hourly\"][\"data\"][i][\"windBearing\"]\n",
    "            if (\"cloudCover\" in json_data[\"hourly\"][\"data\"][i]):\n",
    "                cloudCover_column = json_data[\"hourly\"][\"data\"][i][\"cloudCover\"]\n",
    "            if (\"uvIndex\" in json_data[\"hourly\"][\"data\"][i]):\n",
    "                uvIndex_column =  json_data[\"hourly\"][\"data\"][i][\"uvIndex\"]\n",
    "            if (\"visibility\" in json_data[\"hourly\"][\"data\"][i]):\n",
    "                visibility_column = json_data[\"hourly\"][\"data\"][i][\"visibility\"]\n",
    "            csv_writer.writerow([converted_time, summary_column,icon_column,precipIntensity_column,precipProbability_column,precipType_column,temperature_column,\n",
    "                                 apparentTemperature_column,dewPoint_column,humidity_column,pressure_column,windSpeed_column,windGust_column,windBearing_column,\n",
    "                                 cloudCover_column,uvIndex_column,visibility_column])\n",
    "        # End modification and exit IO execution\n",
    "        start_date = plusOneDay(start_date)\n",
    "    output_file.close()"
   ]
  },
  {
   "cell_type": "markdown",
   "metadata": {},
   "source": [
    "###Using spark dataframe to prepocess data"
   ]
  },
  {
   "cell_type": "code",
   "execution_count": 5,
   "metadata": {},
   "outputs": [
    {
     "data": {
      "application/vnd.jupyter.widget-view+json": {
       "model_id": "69b1eba4a0b546e18a1a6638693f8734",
       "version_major": 2,
       "version_minor": 0
      },
      "text/plain": [
       "VBox()"
      ]
     },
     "metadata": {},
     "output_type": "display_data"
    },
    {
     "data": {
      "application/vnd.jupyter.widget-view+json": {
       "model_id": "",
       "version_major": 2,
       "version_minor": 0
      },
      "text/plain": [
       "FloatProgress(value=0.0, bar_style='info', description='Progress:', layout=Layout(height='25px', width='50%'),…"
      ]
     },
     "metadata": {},
     "output_type": "display_data"
    }
   ],
   "source": [
    "weather_rawdata = spark.read.option(\"header\",\"true\"). option(\"inferSchema\",\"true\").csv(\"s3://weatherprediction/dataset\")"
   ]
  },
  {
   "cell_type": "code",
   "execution_count": 6,
   "metadata": {},
   "outputs": [
    {
     "data": {
      "application/vnd.jupyter.widget-view+json": {
       "model_id": "37eab12e7a6342b49f9a40b7beb56072",
       "version_major": 2,
       "version_minor": 0
      },
      "text/plain": [
       "VBox()"
      ]
     },
     "metadata": {},
     "output_type": "display_data"
    },
    {
     "data": {
      "application/vnd.jupyter.widget-view+json": {
       "model_id": "",
       "version_major": 2,
       "version_minor": 0
      },
      "text/plain": [
       "FloatProgress(value=0.0, bar_style='info', description='Progress:', layout=Layout(height='25px', width='50%'),…"
      ]
     },
     "metadata": {},
     "output_type": "display_data"
    },
    {
     "name": "stdout",
     "output_type": "stream",
     "text": [
      "+----------------+-------------+-------------------+---------------+-----------------+----------+-----------+-------------------+--------+--------+--------+---------+--------+-----------+----------+-------+----------+\n",
      "|            time|      summary|               icon|precipIntensity|precipProbability|precipType|temperature|apparentTemperature|dewPoint|humidity|pressure|windSpeed|windGust|windBearing|cloudCover|uvIndex|visibility|\n",
      "+----------------+-------------+-------------------+---------------+-----------------+----------+-----------+-------------------+--------+--------+--------+---------+--------+-----------+----------+-------+----------+\n",
      "|2018-11-01 00:00|     Overcast|             cloudy|              0|                0|      None|      53.17|              53.17|   50.37|     0.9|  1010.1|     8.31|    8.31|        315|         1|      0|     9.997|\n",
      "|2018-11-01 01:00|     Overcast|             cloudy|              0|                0|      None|      53.19|              53.19|   49.41|    0.87|  1010.2|     7.75|    7.75|        307|         1|      0|     9.997|\n",
      "|2018-11-01 02:00|     Overcast|             cloudy|              0|                0|      None|      52.92|              52.92|   48.65|    0.85|  1010.3|     7.95|    7.95|        306|         1|      0|     9.997|\n",
      "|2018-11-01 03:00|     Overcast|             cloudy|              0|                0|      None|       52.8|               52.8|   48.03|    0.84|  1009.9|     9.15|    9.15|        301|         1|      0|     9.997|\n",
      "|2018-11-01 04:00|     Overcast|             cloudy|              0|                0|      None|      52.54|              52.54|   46.62|     0.8|  1010.1|    10.07|   10.07|        301|         1|      0|     9.997|\n",
      "|2018-11-01 05:00|     Overcast|             cloudy|              0|                0|      None|       52.7|               52.7|   45.17|    0.75|  1010.3|    12.29|   12.29|        308|         1|      0|     9.997|\n",
      "|2018-11-01 06:00|Mostly Cloudy|partly-cloudy-night|              0|                0|      None|      52.57|              52.57|   44.02|    0.73|  1010.5|    12.38|   12.38|        309|      0.86|      0|     9.997|\n",
      "|2018-11-01 07:00|Partly Cloudy|partly-cloudy-night|              0|                0|      None|      51.36|              51.36|   42.82|    0.73|  1010.7|    11.52|   11.52|        313|      0.39|      0|     9.997|\n",
      "|2018-11-01 08:00|        Clear|          clear-day|              0|                0|      None|      50.98|              50.98|   41.87|    0.71|  1012.1|    10.46|   10.46|        307|      0.13|      0|     9.997|\n",
      "|2018-11-01 09:00|        Clear|          clear-day|              0|                0|      None|      51.78|              51.78|   41.44|    0.68|  1012.9|    11.27|   11.27|        318|      0.16|      0|     9.997|\n",
      "|2018-11-01 10:00|        Clear|          clear-day|              0|                0|      None|      54.32|              54.32|   41.58|    0.62|  1013.8|    12.47|   17.61|        333|      0.03|      1|     9.997|\n",
      "|2018-11-01 11:00|        Clear|          clear-day|              0|                0|      None|      57.03|              57.03|   40.95|    0.55|  1013.4|    13.47|   16.75|        345|      0.09|      3|     9.997|\n",
      "|2018-11-01 12:00|        Clear|          clear-day|              0|                0|      None|      58.21|              58.21|   40.66|    0.52|  1013.5|    14.07|   14.07|        346|      0.14|      4|     9.997|\n",
      "|2018-11-01 13:00|        Clear|          clear-day|              0|                0|      None|      59.75|              59.75|   41.06|     0.5|  1013.3|    12.45|   12.45|        340|      0.31|      4|     9.997|\n",
      "|2018-11-01 14:00|Mostly Cloudy|  partly-cloudy-day|              0|                0|      None|      60.74|              60.74|   40.38|    0.47|  1012.7|    12.79|   12.79|        345|      0.66|      4|     9.997|\n",
      "|2018-11-01 15:00|Mostly Cloudy|  partly-cloudy-day|              0|                0|      None|      60.95|              60.95|   39.97|    0.46|  1012.5|    10.94|   10.94|        343|       0.7|      3|     9.997|\n",
      "|2018-11-01 16:00|Mostly Cloudy|  partly-cloudy-day|              0|                0|      None|      61.85|              61.85|   39.52|    0.44|  1012.7|    11.92|   11.92|        341|      0.65|      2|     9.997|\n",
      "|2018-11-01 17:00|Partly Cloudy|  partly-cloudy-day|              0|                0|      None|      61.77|              61.77|   39.05|    0.43|  1012.9|    10.95|   10.95|        346|      0.56|      1|     9.997|\n",
      "|2018-11-01 18:00|Partly Cloudy|  partly-cloudy-day|              0|                0|      None|      60.54|              60.54|    39.2|    0.45|  1013.6|     8.86|    8.86|        344|       0.5|      0|     9.997|\n",
      "|2018-11-01 19:00|        Clear|        clear-night|              0|                0|      None|      58.69|              58.69|   39.82|    0.49|  1014.6|     5.89|    5.89|        353|      0.16|      0|     9.997|\n",
      "+----------------+-------------+-------------------+---------------+-----------------+----------+-----------+-------------------+--------+--------+--------+---------+--------+-----------+----------+-------+----------+\n",
      "only showing top 20 rows"
     ]
    }
   ],
   "source": [
    "weather_rawdata.show()"
   ]
  },
  {
   "cell_type": "code",
   "execution_count": 7,
   "metadata": {},
   "outputs": [
    {
     "data": {
      "application/vnd.jupyter.widget-view+json": {
       "model_id": "b4ce5a1db2684646a4cf4d8b2cacea46",
       "version_major": 2,
       "version_minor": 0
      },
      "text/plain": [
       "VBox()"
      ]
     },
     "metadata": {},
     "output_type": "display_data"
    },
    {
     "data": {
      "application/vnd.jupyter.widget-view+json": {
       "model_id": "",
       "version_major": 2,
       "version_minor": 0
      },
      "text/plain": [
       "FloatProgress(value=0.0, bar_style='info', description='Progress:', layout=Layout(height='25px', width='50%'),…"
      ]
     },
     "metadata": {},
     "output_type": "display_data"
    }
   ],
   "source": [
    "raw_data = weather_rawdata.select(\"time\",\"temperature\")"
   ]
  },
  {
   "cell_type": "code",
   "execution_count": 8,
   "metadata": {},
   "outputs": [
    {
     "data": {
      "application/vnd.jupyter.widget-view+json": {
       "model_id": "75a560d26fe048d09809e42e1c25f6c8",
       "version_major": 2,
       "version_minor": 0
      },
      "text/plain": [
       "VBox()"
      ]
     },
     "metadata": {},
     "output_type": "display_data"
    },
    {
     "data": {
      "application/vnd.jupyter.widget-view+json": {
       "model_id": "",
       "version_major": 2,
       "version_minor": 0
      },
      "text/plain": [
       "FloatProgress(value=0.0, bar_style='info', description='Progress:', layout=Layout(height='25px', width='50%'),…"
      ]
     },
     "metadata": {},
     "output_type": "display_data"
    },
    {
     "name": "stdout",
     "output_type": "stream",
     "text": [
      "+----------------+-----------+\n",
      "|            time|temperature|\n",
      "+----------------+-----------+\n",
      "|2018-11-01 00:00|      53.17|\n",
      "|2018-11-01 01:00|      53.19|\n",
      "|2018-11-01 02:00|      52.92|\n",
      "|2018-11-01 03:00|       52.8|\n",
      "|2018-11-01 04:00|      52.54|\n",
      "|2018-11-01 05:00|       52.7|\n",
      "|2018-11-01 06:00|      52.57|\n",
      "|2018-11-01 07:00|      51.36|\n",
      "|2018-11-01 08:00|      50.98|\n",
      "|2018-11-01 09:00|      51.78|\n",
      "|2018-11-01 10:00|      54.32|\n",
      "|2018-11-01 11:00|      57.03|\n",
      "|2018-11-01 12:00|      58.21|\n",
      "|2018-11-01 13:00|      59.75|\n",
      "|2018-11-01 14:00|      60.74|\n",
      "|2018-11-01 15:00|      60.95|\n",
      "|2018-11-01 16:00|      61.85|\n",
      "|2018-11-01 17:00|      61.77|\n",
      "|2018-11-01 18:00|      60.54|\n",
      "|2018-11-01 19:00|      58.69|\n",
      "+----------------+-----------+\n",
      "only showing top 20 rows"
     ]
    }
   ],
   "source": [
    "raw_data.show()"
   ]
  },
  {
   "cell_type": "markdown",
   "metadata": {},
   "source": [
    "###Implementation of LSTM"
   ]
  },
  {
   "cell_type": "code",
   "execution_count": 9,
   "metadata": {},
   "outputs": [
    {
     "data": {
      "application/vnd.jupyter.widget-view+json": {
       "model_id": "742cc4a801a344e88a8077becf5a6a2f",
       "version_major": 2,
       "version_minor": 0
      },
      "text/plain": [
       "VBox()"
      ]
     },
     "metadata": {},
     "output_type": "display_data"
    },
    {
     "data": {
      "application/vnd.jupyter.widget-view+json": {
       "model_id": "",
       "version_major": 2,
       "version_minor": 0
      },
      "text/plain": [
       "FloatProgress(value=0.0, bar_style='info', description='Progress:', layout=Layout(height='25px', width='50%'),…"
      ]
     },
     "metadata": {},
     "output_type": "display_data"
    },
    {
     "name": "stdout",
     "output_type": "stream",
     "text": [
      "Using TensorFlow backend."
     ]
    }
   ],
   "source": [
    "from keras import *\n",
    "from keras import backend as K\n",
    "from keras.engine.base_layer import Layer\n",
    "from keras.layers import Dense, RNN\n",
    "from sklearn.preprocessing import MinMaxScaler\n",
    "from sklearn.metrics import mean_squared_error\n",
    "from keras.legacy import interfaces"
   ]
  },
  {
   "cell_type": "code",
   "execution_count": 10,
   "metadata": {},
   "outputs": [
    {
     "data": {
      "application/vnd.jupyter.widget-view+json": {
       "model_id": "ed0570bfda774a489563bb9325eb91b0",
       "version_major": 2,
       "version_minor": 0
      },
      "text/plain": [
       "VBox()"
      ]
     },
     "metadata": {},
     "output_type": "display_data"
    },
    {
     "data": {
      "application/vnd.jupyter.widget-view+json": {
       "model_id": "",
       "version_major": 2,
       "version_minor": 0
      },
      "text/plain": [
       "FloatProgress(value=0.0, bar_style='info', description='Progress:', layout=Layout(height='25px', width='50%'),…"
      ]
     },
     "metadata": {},
     "output_type": "display_data"
    }
   ],
   "source": [
    "class CustomLSTMCell(Layer):\n",
    "    def __init__(self, units_num, **kwargs):\n",
    "        super(CustomLSTMCell, self).__init__(**kwargs)\n",
    "        self.units_num = units_num\n",
    "        self.state_size = (self.units_num, self.units_num)\n",
    "        self.output_size = self.units_num\n",
    "\n",
    "    def build(self, input_shape):\n",
    "        input_dim = input_shape[-1]\n",
    "        w_shape = (input_dim, self.units_num * 4)\n",
    "        u_shape = (self.units_num, self.units_num * 4)\n",
    "\n",
    "        # initialize kernel, recurrent kernal and bias matrix\n",
    "        self.w = self.add_weight(shape=w_shape, name='matrix_w', initializer='glorot_uniform')\n",
    "\n",
    "        self.u = self.add_weight(shape=u_shape, name='matrix_u', initializer='orthogonal')\n",
    "\n",
    "        self.bias = np.zeros(self.units_num * 4)\n",
    "        self.bias[self.units_num:self.units_num * 2] = 1.\n",
    "\n",
    "        self.built = True\n",
    "\n",
    "    def call(self, cell_inputs, cell_states):\n",
    "        h_t_1 = cell_states[0]\n",
    "        c_t_1 = cell_states[1]\n",
    "\n",
    "        temp = K.dot(cell_inputs, self.w) + K.dot(h_t_1, self.u) + self.bias\n",
    "        temp_i = temp[:, 0:self.units_num]\n",
    "        temp_f = temp[:, self.units_num:self.units_num * 2]\n",
    "        temp_c = temp[:, self.units_num * 2:self.units_num * 3]\n",
    "        temp_o = temp[:, self.units_num * 3:self.units_num * 4]\n",
    "\n",
    "        i_t = K.sigmoid(temp_i)\n",
    "        f_t = K.sigmoid(temp_f)\n",
    "        c_t = f_t * c_t_1 + i_t * K.tanh(temp_c)\n",
    "        o_t = K.sigmoid(temp_o)\n",
    "\n",
    "        h_t = o_t * K.tanh(c_t)\n",
    "\n",
    "        return h_t, [h_t, c_t]\n",
    "\n",
    "    def get_config(self):\n",
    "        config = {'units_num': self.units_num}\n",
    "        base_config = super(CustomLSTMCell, self).get_config()\n",
    "        return dict(list(base_config.items()) + list(config.items()))\n",
    "\n"
   ]
  },
  {
   "cell_type": "code",
   "execution_count": 11,
   "metadata": {},
   "outputs": [
    {
     "data": {
      "application/vnd.jupyter.widget-view+json": {
       "model_id": "a0c4aa49ee784d2d9541f01ba0b883e8",
       "version_major": 2,
       "version_minor": 0
      },
      "text/plain": [
       "VBox()"
      ]
     },
     "metadata": {},
     "output_type": "display_data"
    },
    {
     "data": {
      "application/vnd.jupyter.widget-view+json": {
       "model_id": "",
       "version_major": 2,
       "version_minor": 0
      },
      "text/plain": [
       "FloatProgress(value=0.0, bar_style='info', description='Progress:', layout=Layout(height='25px', width='50%'),…"
      ]
     },
     "metadata": {},
     "output_type": "display_data"
    }
   ],
   "source": [
    "class LSTMLayer(RNN):\n",
    "    @interfaces.legacy_recurrent_support\n",
    "    def __init__(self, units,\n",
    "                 activity_regularizer=None,\n",
    "                 return_sequences=False,\n",
    "                 return_state=False,\n",
    "                 go_backwards=False,\n",
    "                 stateful=False,\n",
    "                 unroll=False,\n",
    "                 **kwargs):\n",
    "\n",
    "        cell = CustomLSTMCell(units)\n",
    "        super(LSTMLayer, self).__init__(cell,\n",
    "                                   return_sequences=return_sequences,\n",
    "                                   return_state=return_state,\n",
    "                                   go_backwards=go_backwards,\n",
    "                                   stateful=stateful,\n",
    "                                   unroll=unroll,\n",
    "                                   **kwargs)\n",
    "        self.activity_regularizer = regularizers.get(activity_regularizer)\n",
    "\n",
    "    def call(self, inputs, mask=None, training=None, initial_state=None):\n",
    "        self.cell._dropout_mask = None\n",
    "        self.cell._recurrent_dropout_mask = None\n",
    "        return super(LSTMLayer, self).call(inputs,\n",
    "                                      mask=mask,\n",
    "                                      training=training,\n",
    "                                      initial_state=initial_state)\n",
    "\n",
    "    @property\n",
    "    def units(self):\n",
    "        return self.cell.units_num\n",
    "\n",
    "    def get_config(self):\n",
    "        config = {'units': self.units}\n",
    "        base_config = super(LSTMLayer, self).get_config()\n",
    "        del base_config['cell']\n",
    "        return dict(list(base_config.items()) + list(config.items()))\n",
    "\n",
    "    @classmethod\n",
    "    def from_config(cls, config):\n",
    "        return cls(**config)\n",
    "\n"
   ]
  },
  {
   "cell_type": "code",
   "execution_count": 12,
   "metadata": {},
   "outputs": [
    {
     "data": {
      "application/vnd.jupyter.widget-view+json": {
       "model_id": "50d7bf98c531478aaa846b1b154664f8",
       "version_major": 2,
       "version_minor": 0
      },
      "text/plain": [
       "VBox()"
      ]
     },
     "metadata": {},
     "output_type": "display_data"
    },
    {
     "data": {
      "application/vnd.jupyter.widget-view+json": {
       "model_id": "",
       "version_major": 2,
       "version_minor": 0
      },
      "text/plain": [
       "FloatProgress(value=0.0, bar_style='info', description='Progress:', layout=Layout(height='25px', width='50%'),…"
      ]
     },
     "metadata": {},
     "output_type": "display_data"
    }
   ],
   "source": [
    "data_set = raw_data.select(\"temperature\").collect()"
   ]
  },
  {
   "cell_type": "code",
   "execution_count": 13,
   "metadata": {},
   "outputs": [
    {
     "data": {
      "application/vnd.jupyter.widget-view+json": {
       "model_id": "2fbc63e6441c4a01a35a1c9e44af0758",
       "version_major": 2,
       "version_minor": 0
      },
      "text/plain": [
       "VBox()"
      ]
     },
     "metadata": {},
     "output_type": "display_data"
    },
    {
     "data": {
      "application/vnd.jupyter.widget-view+json": {
       "model_id": "",
       "version_major": 2,
       "version_minor": 0
      },
      "text/plain": [
       "FloatProgress(value=0.0, bar_style='info', description='Progress:', layout=Layout(height='25px', width='50%'),…"
      ]
     },
     "metadata": {},
     "output_type": "display_data"
    }
   ],
   "source": [
    "# scale the dataset to [0, 1]\n",
    "data_scale_tool = MinMaxScaler(feature_range=(0, 1))\n",
    "data_set = data_scale_tool.fit_transform(data_set)\n",
    "\n",
    "# split dataset into training set and testing set\n",
    "training_set_size = int(len(data_set) * 0.67)\n",
    "testing_set_size = len(data_set) - training_set_size\n",
    "training_set, testing_set = data_set[0:training_set_size, :], data_set[training_set_size:len(data_set), :]"
   ]
  },
  {
   "cell_type": "code",
   "execution_count": 18,
   "metadata": {},
   "outputs": [
    {
     "data": {
      "application/vnd.jupyter.widget-view+json": {
       "model_id": "e3a35ddcc7084502870881b9bdeb23f5",
       "version_major": 2,
       "version_minor": 0
      },
      "text/plain": [
       "VBox()"
      ]
     },
     "metadata": {},
     "output_type": "display_data"
    },
    {
     "data": {
      "application/vnd.jupyter.widget-view+json": {
       "model_id": "",
       "version_major": 2,
       "version_minor": 0
      },
      "text/plain": [
       "FloatProgress(value=0.0, bar_style='info', description='Progress:', layout=Layout(height='25px', width='50%'),…"
      ]
     },
     "metadata": {},
     "output_type": "display_data"
    }
   ],
   "source": [
    "import numpy as np\n",
    "def create_my_data_set(data_set, prev_data_length=1):\n",
    "    x, y = [], []\n",
    "    for i in range(len(data_set) - prev_data_length - 1):\n",
    "        a = data_set[i:(i + prev_data_length), 0]\n",
    "        x.append(a)\n",
    "        y.append(data_set[i + prev_data_length, 0])\n",
    "    return np.array(x), np.array(y)"
   ]
  },
  {
   "cell_type": "code",
   "execution_count": 19,
   "metadata": {},
   "outputs": [
    {
     "data": {
      "application/vnd.jupyter.widget-view+json": {
       "model_id": "d0682df32fcd42689dce284e5c25a380",
       "version_major": 2,
       "version_minor": 0
      },
      "text/plain": [
       "VBox()"
      ]
     },
     "metadata": {},
     "output_type": "display_data"
    },
    {
     "data": {
      "application/vnd.jupyter.widget-view+json": {
       "model_id": "",
       "version_major": 2,
       "version_minor": 0
      },
      "text/plain": [
       "FloatProgress(value=0.0, bar_style='info', description='Progress:', layout=Layout(height='25px', width='50%'),…"
      ]
     },
     "metadata": {},
     "output_type": "display_data"
    }
   ],
   "source": [
    "# preprocess training set and testing set, add previous weather data for LSTM\n",
    "prev_data_length = 4\n",
    "num_of_units = 5\n",
    "training_set_x, training_set_y = create_my_data_set(training_set, prev_data_length)\n",
    "testing_set_x, testing_set_y = create_my_data_set(testing_set, prev_data_length)\n",
    "\n",
    "# transfer input into [samples, time steps, features]\n",
    "training_set_x = np.reshape(training_set_x, (training_set_x.shape[0], 1, training_set_x.shape[1]))\n",
    "testing_set_x = np.reshape(testing_set_x, (testing_set_x.shape[0], 1, testing_set_x.shape[1]))"
   ]
  },
  {
   "cell_type": "markdown",
   "metadata": {},
   "source": [
    "###Create and fit the Keras LSTM model"
   ]
  },
  {
   "cell_type": "code",
   "execution_count": 20,
   "metadata": {},
   "outputs": [
    {
     "data": {
      "application/vnd.jupyter.widget-view+json": {
       "model_id": "37374071db1c44f2a97a88fbfa840b95",
       "version_major": 2,
       "version_minor": 0
      },
      "text/plain": [
       "VBox()"
      ]
     },
     "metadata": {},
     "output_type": "display_data"
    },
    {
     "data": {
      "application/vnd.jupyter.widget-view+json": {
       "model_id": "",
       "version_major": 2,
       "version_minor": 0
      },
      "text/plain": [
       "FloatProgress(value=0.0, bar_style='info', description='Progress:', layout=Layout(height='25px', width='50%'),…"
      ]
     },
     "metadata": {},
     "output_type": "display_data"
    },
    {
     "name": "stdout",
     "output_type": "stream",
     "text": [
      "Epoch 1/100\n",
      " - 4s - loss: 0.0084\n",
      "Epoch 2/100\n",
      " - 3s - loss: 0.0020\n",
      "Epoch 3/100\n",
      " - 3s - loss: 9.7263e-04\n",
      "Epoch 4/100\n",
      " - 3s - loss: 8.9389e-04\n",
      "Epoch 5/100\n",
      " - 3s - loss: 8.4495e-04\n",
      "Epoch 6/100\n",
      " - 3s - loss: 7.9297e-04\n",
      "Epoch 7/100\n",
      " - 3s - loss: 7.5029e-04\n",
      "Epoch 8/100\n",
      " - 3s - loss: 6.9619e-04\n",
      "Epoch 9/100\n",
      " - 3s - loss: 6.5966e-04\n",
      "Epoch 10/100\n",
      " - 3s - loss: 6.3533e-04\n",
      "Epoch 11/100\n",
      " - 3s - loss: 6.0745e-04\n",
      "Epoch 12/100\n",
      " - 3s - loss: 5.8878e-04\n",
      "Epoch 13/100\n",
      " - 3s - loss: 5.5760e-04\n",
      "Epoch 14/100\n",
      " - 3s - loss: 5.4482e-04\n",
      "Epoch 15/100\n",
      " - 3s - loss: 5.3117e-04\n",
      "Epoch 16/100\n",
      " - 3s - loss: 5.0825e-04\n",
      "Epoch 17/100\n",
      " - 3s - loss: 5.0511e-04\n",
      "Epoch 18/100\n",
      " - 3s - loss: 5.0642e-04\n",
      "Epoch 19/100\n",
      " - 3s - loss: 5.0105e-04\n",
      "Epoch 20/100\n",
      " - 3s - loss: 5.0317e-04\n",
      "Epoch 21/100\n",
      " - 3s - loss: 4.9458e-04\n",
      "Epoch 22/100\n",
      " - 3s - loss: 4.8804e-04\n",
      "Epoch 23/100\n",
      " - 3s - loss: 4.8000e-04\n",
      "Epoch 24/100\n",
      " - 3s - loss: 4.8228e-04\n",
      "Epoch 25/100\n",
      " - 4s - loss: 4.9003e-04\n",
      "Epoch 26/100\n",
      " - 3s - loss: 4.7975e-04\n",
      "Epoch 27/100\n",
      " - 3s - loss: 4.7835e-04\n",
      "Epoch 28/100\n",
      " - 3s - loss: 4.7302e-04\n",
      "Epoch 29/100\n",
      " - 3s - loss: 4.7187e-04\n",
      "Epoch 30/100\n",
      " - 3s - loss: 4.7763e-04\n",
      "Epoch 31/100\n",
      " - 3s - loss: 4.9903e-04\n",
      "Epoch 32/100\n",
      " - 3s - loss: 4.7577e-04\n",
      "Epoch 33/100\n",
      " - 3s - loss: 4.8432e-04\n",
      "Epoch 34/100\n",
      " - 3s - loss: 4.6851e-04\n",
      "Epoch 35/100\n",
      " - 3s - loss: 4.5877e-04\n",
      "Epoch 36/100\n",
      " - 3s - loss: 4.7734e-04\n",
      "Epoch 37/100\n",
      " - 3s - loss: 4.8062e-04\n",
      "Epoch 38/100\n",
      " - 3s - loss: 4.8127e-04\n",
      "Epoch 39/100\n",
      " - 3s - loss: 4.8524e-04\n",
      "Epoch 40/100\n",
      " - 3s - loss: 4.8138e-04\n",
      "Epoch 41/100\n",
      " - 3s - loss: 4.7239e-04\n",
      "Epoch 42/100\n",
      " - 3s - loss: 4.8078e-04\n",
      "Epoch 43/100\n",
      " - 3s - loss: 4.7706e-04\n",
      "Epoch 44/100\n",
      " - 3s - loss: 4.7241e-04\n",
      "Epoch 45/100\n",
      " - 3s - loss: 4.6742e-04\n",
      "Epoch 46/100\n",
      " - 3s - loss: 4.8654e-04\n",
      "Epoch 47/100\n",
      " - 3s - loss: 4.7558e-04\n",
      "Epoch 48/100\n",
      " - 3s - loss: 4.7664e-04\n",
      "Epoch 49/100\n",
      " - 3s - loss: 4.7835e-04\n",
      "Epoch 50/100\n",
      " - 3s - loss: 4.7121e-04\n",
      "Epoch 51/100\n",
      " - 3s - loss: 4.7460e-04\n",
      "Epoch 52/100\n",
      " - 3s - loss: 4.7542e-04\n",
      "Epoch 53/100\n",
      " - 3s - loss: 4.6648e-04\n",
      "Epoch 54/100\n",
      " - 3s - loss: 4.8280e-04\n",
      "Epoch 55/100\n",
      " - 3s - loss: 4.6751e-04\n",
      "Epoch 56/100\n",
      " - 3s - loss: 4.7139e-04\n",
      "Epoch 57/100\n",
      " - 3s - loss: 4.7148e-04\n",
      "Epoch 58/100\n",
      " - 3s - loss: 4.7326e-04\n",
      "Epoch 59/100\n",
      " - 3s - loss: 4.7881e-04\n",
      "Epoch 60/100\n",
      " - 3s - loss: 4.6805e-04\n",
      "Epoch 61/100\n",
      " - 3s - loss: 4.7030e-04\n",
      "Epoch 62/100\n",
      " - 3s - loss: 4.7213e-04\n",
      "Epoch 63/100\n",
      " - 3s - loss: 4.6536e-04\n",
      "Epoch 64/100\n",
      " - 3s - loss: 4.7650e-04\n",
      "Epoch 65/100\n",
      " - 3s - loss: 4.6194e-04\n",
      "Epoch 66/100\n",
      " - 3s - loss: 4.7000e-04\n",
      "Epoch 67/100\n",
      " - 3s - loss: 4.5579e-04\n",
      "Epoch 68/100\n",
      " - 3s - loss: 4.6084e-04\n",
      "Epoch 69/100\n",
      " - 3s - loss: 4.6682e-04\n",
      "Epoch 70/100\n",
      " - 3s - loss: 4.7232e-04\n",
      "Epoch 71/100\n",
      " - 3s - loss: 4.7211e-04\n",
      "Epoch 72/100\n",
      " - 3s - loss: 4.6727e-04\n",
      "Epoch 73/100\n",
      " - 3s - loss: 4.6498e-04\n",
      "Epoch 74/100\n",
      " - 3s - loss: 4.6397e-04\n",
      "Epoch 75/100\n",
      " - 4s - loss: 4.6822e-04\n",
      "Epoch 76/100\n",
      " - 3s - loss: 4.5996e-04\n",
      "Epoch 77/100\n",
      " - 3s - loss: 4.7237e-04\n",
      "Epoch 78/100\n",
      " - 3s - loss: 4.8076e-04\n",
      "Epoch 79/100\n",
      " - 3s - loss: 4.6336e-04\n",
      "Epoch 80/100\n",
      " - 3s - loss: 4.7305e-04\n",
      "Epoch 81/100\n",
      " - 3s - loss: 4.6275e-04\n",
      "Epoch 82/100\n",
      " - 3s - loss: 4.6006e-04\n",
      "Epoch 83/100\n",
      " - 3s - loss: 4.5468e-04\n",
      "Epoch 84/100\n",
      " - 3s - loss: 4.6773e-04\n",
      "Epoch 85/100\n",
      " - 3s - loss: 4.5884e-04\n",
      "Epoch 86/100\n",
      " - 3s - loss: 4.8105e-04\n",
      "Epoch 87/100\n",
      " - 3s - loss: 4.6533e-04\n",
      "Epoch 88/100\n",
      " - 3s - loss: 4.7181e-04\n",
      "Epoch 89/100\n",
      " - 3s - loss: 4.6429e-04\n",
      "Epoch 90/100\n",
      " - 3s - loss: 4.6978e-04\n",
      "Epoch 91/100\n",
      " - 3s - loss: 4.6969e-04\n",
      "Epoch 92/100\n",
      " - 3s - loss: 4.5811e-04\n",
      "Epoch 93/100\n",
      " - 3s - loss: 4.5849e-04\n",
      "Epoch 94/100\n",
      " - 3s - loss: 4.6603e-04\n",
      "Epoch 95/100\n",
      " - 3s - loss: 4.6957e-04\n",
      "Epoch 96/100\n",
      " - 3s - loss: 4.6908e-04\n",
      "Epoch 97/100\n",
      " - 3s - loss: 4.6159e-04\n",
      "Epoch 98/100\n",
      " - 3s - loss: 4.6714e-04\n",
      "Epoch 99/100\n",
      " - 3s - loss: 4.5921e-04\n",
      "Epoch 100/100\n",
      " - 3s - loss: 4.6514e-04\n",
      "<keras.callbacks.callbacks.History object at 0x7fb5b56ce278>"
     ]
    }
   ],
   "source": [
    "keras_model = Sequential()\n",
    "keras_model.add(LSTMLayer(num_of_units, input_shape=(1, prev_data_length)))\n",
    "keras_model.add(Dense(1))\n",
    "keras_model.compile(loss='mean_squared_error', optimizer='adam')\n",
    "keras_model.fit(training_set_x, training_set_y, epochs=100, batch_size=1, verbose=2)"
   ]
  },
  {
   "cell_type": "code",
   "execution_count": 21,
   "metadata": {},
   "outputs": [
    {
     "data": {
      "application/vnd.jupyter.widget-view+json": {
       "model_id": "85bba46e7500466db9f65eed43059a48",
       "version_major": 2,
       "version_minor": 0
      },
      "text/plain": [
       "VBox()"
      ]
     },
     "metadata": {},
     "output_type": "display_data"
    },
    {
     "data": {
      "application/vnd.jupyter.widget-view+json": {
       "model_id": "",
       "version_major": 2,
       "version_minor": 0
      },
      "text/plain": [
       "FloatProgress(value=0.0, bar_style='info', description='Progress:', layout=Layout(height='25px', width='50%'),…"
      ]
     },
     "metadata": {},
     "output_type": "display_data"
    }
   ],
   "source": [
    "# make predictions on training set and testing set\n",
    "training_set_predict = keras_model.predict(training_set_x)\n",
    "testing_set_predict = keras_model.predict(testing_set_x)"
   ]
  },
  {
   "cell_type": "markdown",
   "metadata": {},
   "source": [
    "###Error Result with using Keras model"
   ]
  },
  {
   "cell_type": "code",
   "execution_count": 22,
   "metadata": {},
   "outputs": [
    {
     "data": {
      "application/vnd.jupyter.widget-view+json": {
       "model_id": "a7d622462e92454aac206b5a84036824",
       "version_major": 2,
       "version_minor": 0
      },
      "text/plain": [
       "VBox()"
      ]
     },
     "metadata": {},
     "output_type": "display_data"
    },
    {
     "data": {
      "application/vnd.jupyter.widget-view+json": {
       "model_id": "",
       "version_major": 2,
       "version_minor": 0
      },
      "text/plain": [
       "FloatProgress(value=0.0, bar_style='info', description='Progress:', layout=Layout(height='25px', width='50%'),…"
      ]
     },
     "metadata": {},
     "output_type": "display_data"
    },
    {
     "name": "stdout",
     "output_type": "stream",
     "text": [
      "Train Score: 0.02025 RMSE\n",
      "Test Score: 0.02110 RMSE"
     ]
    }
   ],
   "source": [
    "# calculate root mean squared error\n",
    "import math\n",
    "training_set_predict_score = math.sqrt(mean_squared_error(training_set_y, training_set_predict))\n",
    "print('Train Score: %.5f RMSE' % (training_set_predict_score))\n",
    "testing_set_predict_score = math.sqrt(mean_squared_error(testing_set_y, testing_set_predict))\n",
    "print('Test Score: %.5f RMSE' % (testing_set_predict_score))"
   ]
  },
  {
   "cell_type": "markdown",
   "metadata": {},
   "source": [
    "###Using elephas wrap keras and fit the traing dataset in distributed way"
   ]
  },
  {
   "cell_type": "code",
   "execution_count": 23,
   "metadata": {},
   "outputs": [
    {
     "data": {
      "application/vnd.jupyter.widget-view+json": {
       "model_id": "1c1fe1d3e4aa466699a7b6d77023d1d0",
       "version_major": 2,
       "version_minor": 0
      },
      "text/plain": [
       "VBox()"
      ]
     },
     "metadata": {},
     "output_type": "display_data"
    },
    {
     "data": {
      "application/vnd.jupyter.widget-view+json": {
       "model_id": "",
       "version_major": 2,
       "version_minor": 0
      },
      "text/plain": [
       "FloatProgress(value=0.0, bar_style='info', description='Progress:', layout=Layout(height='25px', width='50%'),…"
      ]
     },
     "metadata": {},
     "output_type": "display_data"
    },
    {
     "name": "stdout",
     "output_type": "stream",
     "text": [
      "WARNING"
     ]
    }
   ],
   "source": [
    "from elephas.spark_model import SparkModel\n",
    "from elephas import optimizers as elephas_optimizers\n",
    "from elephas.utils.rdd_utils import to_simple_rdd\n",
    "adagrad = elephas_optimizers.Adagrad()\n",
    "spark_model = SparkModel(keras_model, frequency='epoch', mode='synchronous', custom_objects={'LSTMLayer':LSTMLayer, 'CustomLSTMCell':CustomLSTMCell})\n",
    "rdd = to_simple_rdd(sc, training_set_x, training_set_y)"
   ]
  },
  {
   "cell_type": "code",
   "execution_count": 24,
   "metadata": {},
   "outputs": [
    {
     "data": {
      "application/vnd.jupyter.widget-view+json": {
       "model_id": "5b7a574df4554ddb82c39c5dd2749234",
       "version_major": 2,
       "version_minor": 0
      },
      "text/plain": [
       "VBox()"
      ]
     },
     "metadata": {},
     "output_type": "display_data"
    },
    {
     "data": {
      "application/vnd.jupyter.widget-view+json": {
       "model_id": "",
       "version_major": 2,
       "version_minor": 0
      },
      "text/plain": [
       "FloatProgress(value=0.0, bar_style='info', description='Progress:', layout=Layout(height='25px', width='50%'),…"
      ]
     },
     "metadata": {},
     "output_type": "display_data"
    },
    {
     "name": "stdout",
     "output_type": "stream",
     "text": [
      ">>> Fit model\n",
      ">>> Synchronous training complete."
     ]
    }
   ],
   "source": [
    "spark_model.fit(rdd, epochs=100, batch_size=1, verbose=2, validation_split=0.1)\n",
    "training_set_predict_spark=spark_model.predict(training_set_x)\n",
    "testing_set_predict_spark=spark_model.predict(testing_set_x)"
   ]
  },
  {
   "cell_type": "markdown",
   "metadata": {},
   "source": [
    "###Error Result with using Elephas"
   ]
  },
  {
   "cell_type": "code",
   "execution_count": 25,
   "metadata": {},
   "outputs": [
    {
     "data": {
      "application/vnd.jupyter.widget-view+json": {
       "model_id": "b006832c29ea49f6867a91281fdb121c",
       "version_major": 2,
       "version_minor": 0
      },
      "text/plain": [
       "VBox()"
      ]
     },
     "metadata": {},
     "output_type": "display_data"
    },
    {
     "data": {
      "application/vnd.jupyter.widget-view+json": {
       "model_id": "",
       "version_major": 2,
       "version_minor": 0
      },
      "text/plain": [
       "FloatProgress(value=0.0, bar_style='info', description='Progress:', layout=Layout(height='25px', width='50%'),…"
      ]
     },
     "metadata": {},
     "output_type": "display_data"
    },
    {
     "name": "stdout",
     "output_type": "stream",
     "text": [
      "Train Score: 0.03397 RMSE\n",
      "Test Score: 0.03414 RMSE"
     ]
    }
   ],
   "source": [
    "training_set_predict_score = math.sqrt(mean_squared_error(training_set_y, training_set_predict_spark))\n",
    "print('Train Score: %.5f RMSE' % (training_set_predict_score))\n",
    "testing_set_predict_score = math.sqrt(mean_squared_error(testing_set_y, testing_set_predict_spark))\n",
    "print('Test Score: %.5f RMSE' % (testing_set_predict_score))"
   ]
  }
 ],
 "metadata": {
  "kernelspec": {
   "display_name": "PySpark",
   "language": "",
   "name": "pysparkkernel"
  },
  "language_info": {
   "codemirror_mode": {
    "name": "python",
    "version": 2
   },
   "mimetype": "text/x-python",
   "name": "pyspark",
   "pygments_lexer": "python2"
  }
 },
 "nbformat": 4,
 "nbformat_minor": 4
}
